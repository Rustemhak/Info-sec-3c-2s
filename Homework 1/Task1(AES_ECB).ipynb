{
  "nbformat": 4,
  "nbformat_minor": 0,
  "metadata": {
    "colab": {
      "name": "Task1(AES-ECB).ipynb",
      "provenance": []
    },
    "kernelspec": {
      "name": "python3",
      "display_name": "Python 3"
    },
    "language_info": {
      "name": "python"
    }
  },
  "cells": [
    {
      "cell_type": "markdown",
      "source": [
        "Скачиваем нужную библиотеку для AES"
      ],
      "metadata": {
        "id": "pfvOx1NhiwLu"
      }
    },
    {
      "cell_type": "code",
      "source": [
        "!pip install pycrypto"
      ],
      "metadata": {
        "colab": {
          "base_uri": "https://localhost:8080/"
        },
        "id": "rsvLh7IP64vv",
        "outputId": "885e50ff-da19-4045-a15c-0872096ef543"
      },
      "execution_count": 2,
      "outputs": [
        {
          "output_type": "stream",
          "name": "stdout",
          "text": [
            "Collecting pycrypto\n",
            "  Downloading pycrypto-2.6.1.tar.gz (446 kB)\n",
            "\u001b[?25l\r\u001b[K     |▊                               | 10 kB 24.4 MB/s eta 0:00:01\r\u001b[K     |█▌                              | 20 kB 13.8 MB/s eta 0:00:01\r\u001b[K     |██▏                             | 30 kB 10.2 MB/s eta 0:00:01\r\u001b[K     |███                             | 40 kB 8.8 MB/s eta 0:00:01\r\u001b[K     |███▊                            | 51 kB 4.4 MB/s eta 0:00:01\r\u001b[K     |████▍                           | 61 kB 5.2 MB/s eta 0:00:01\r\u001b[K     |█████▏                          | 71 kB 5.6 MB/s eta 0:00:01\r\u001b[K     |█████▉                          | 81 kB 5.7 MB/s eta 0:00:01\r\u001b[K     |██████▋                         | 92 kB 6.3 MB/s eta 0:00:01\r\u001b[K     |███████▍                        | 102 kB 5.1 MB/s eta 0:00:01\r\u001b[K     |████████                        | 112 kB 5.1 MB/s eta 0:00:01\r\u001b[K     |████████▉                       | 122 kB 5.1 MB/s eta 0:00:01\r\u001b[K     |█████████▌                      | 133 kB 5.1 MB/s eta 0:00:01\r\u001b[K     |██████████▎                     | 143 kB 5.1 MB/s eta 0:00:01\r\u001b[K     |███████████                     | 153 kB 5.1 MB/s eta 0:00:01\r\u001b[K     |███████████▊                    | 163 kB 5.1 MB/s eta 0:00:01\r\u001b[K     |████████████▌                   | 174 kB 5.1 MB/s eta 0:00:01\r\u001b[K     |█████████████▏                  | 184 kB 5.1 MB/s eta 0:00:01\r\u001b[K     |██████████████                  | 194 kB 5.1 MB/s eta 0:00:01\r\u001b[K     |██████████████▊                 | 204 kB 5.1 MB/s eta 0:00:01\r\u001b[K     |███████████████▍                | 215 kB 5.1 MB/s eta 0:00:01\r\u001b[K     |████████████████▏               | 225 kB 5.1 MB/s eta 0:00:01\r\u001b[K     |█████████████████               | 235 kB 5.1 MB/s eta 0:00:01\r\u001b[K     |█████████████████▋              | 245 kB 5.1 MB/s eta 0:00:01\r\u001b[K     |██████████████████▍             | 256 kB 5.1 MB/s eta 0:00:01\r\u001b[K     |███████████████████             | 266 kB 5.1 MB/s eta 0:00:01\r\u001b[K     |███████████████████▉            | 276 kB 5.1 MB/s eta 0:00:01\r\u001b[K     |████████████████████▋           | 286 kB 5.1 MB/s eta 0:00:01\r\u001b[K     |█████████████████████▎          | 296 kB 5.1 MB/s eta 0:00:01\r\u001b[K     |██████████████████████          | 307 kB 5.1 MB/s eta 0:00:01\r\u001b[K     |██████████████████████▊         | 317 kB 5.1 MB/s eta 0:00:01\r\u001b[K     |███████████████████████▌        | 327 kB 5.1 MB/s eta 0:00:01\r\u001b[K     |████████████████████████▎       | 337 kB 5.1 MB/s eta 0:00:01\r\u001b[K     |█████████████████████████       | 348 kB 5.1 MB/s eta 0:00:01\r\u001b[K     |█████████████████████████▊      | 358 kB 5.1 MB/s eta 0:00:01\r\u001b[K     |██████████████████████████▍     | 368 kB 5.1 MB/s eta 0:00:01\r\u001b[K     |███████████████████████████▏    | 378 kB 5.1 MB/s eta 0:00:01\r\u001b[K     |████████████████████████████    | 389 kB 5.1 MB/s eta 0:00:01\r\u001b[K     |████████████████████████████▋   | 399 kB 5.1 MB/s eta 0:00:01\r\u001b[K     |█████████████████████████████▍  | 409 kB 5.1 MB/s eta 0:00:01\r\u001b[K     |██████████████████████████████  | 419 kB 5.1 MB/s eta 0:00:01\r\u001b[K     |██████████████████████████████▉ | 430 kB 5.1 MB/s eta 0:00:01\r\u001b[K     |███████████████████████████████▋| 440 kB 5.1 MB/s eta 0:00:01\r\u001b[K     |████████████████████████████████| 446 kB 5.1 MB/s \n",
            "\u001b[?25hBuilding wheels for collected packages: pycrypto\n",
            "  Building wheel for pycrypto (setup.py) ... \u001b[?25l\u001b[?25hdone\n",
            "  Created wheel for pycrypto: filename=pycrypto-2.6.1-cp37-cp37m-linux_x86_64.whl size=499932 sha256=e5084dbe99d19b87f78dc27ed3f75dcdb3c83532b3fd27eca54683c2538605d3\n",
            "  Stored in directory: /root/.cache/pip/wheels/cf/85/ba/bbd7c96add459de7598fb424e5ff2309baf2095c844ac0f191\n",
            "Successfully built pycrypto\n",
            "Installing collected packages: pycrypto\n",
            "Successfully installed pycrypto-2.6.1\n"
          ]
        }
      ]
    },
    {
      "cell_type": "code",
      "source": [
        "from Crypto.Cipher import AES\n",
        "import string\n",
        "import numpy as np"
      ],
      "metadata": {
        "id": "W0WriKlQ73rY"
      },
      "execution_count": 47,
      "outputs": []
    },
    {
      "cell_type": "markdown",
      "source": [
        "Константы\n",
        "\n",
        "\n",
        "*   Длина секретного ключа `K` и соли `S`\n",
        "*   Алфавит (заглавные латинские буквы)\n",
        "\n",
        "\n"
      ],
      "metadata": {
        "id": "LHeDFowSi-l0"
      }
    },
    {
      "cell_type": "code",
      "source": [
        "SIZE_KEY = 16\n",
        "LETTERS = string.ascii_uppercase"
      ],
      "metadata": {
        "id": "xbHbKdRKOyK5"
      },
      "execution_count": 117,
      "outputs": []
    },
    {
      "cell_type": "markdown",
      "source": [
        "Функция для генерации строки из алфавит"
      ],
      "metadata": {
        "id": "RVcgc1o2jJqy"
      }
    },
    {
      "cell_type": "code",
      "source": [
        "def generate_string(size):\n",
        "    return ''.join(np.random.choice(list(LETTERS),size))"
      ],
      "metadata": {
        "id": "uJwIMXQ1OviC"
      },
      "execution_count": 118,
      "outputs": []
    },
    {
      "cell_type": "markdown",
      "source": [
        "Генерируем `K` и `S`"
      ],
      "metadata": {
        "id": "uTj2_03cjR11"
      }
    },
    {
      "cell_type": "code",
      "source": [
        "K = generate_string(SIZE_KEY).encode('ascii')\n",
        "S = generate_string(SIZE_KEY)\n",
        "print(f'Secret key: {K}\\n salt: {S}')"
      ],
      "metadata": {
        "colab": {
          "base_uri": "https://localhost:8080/"
        },
        "id": "OcLr4lkoOsbS",
        "outputId": "a0ccfb3d-fbed-441b-8b13-c6a0bd2c1589"
      },
      "execution_count": 119,
      "outputs": [
        {
          "output_type": "stream",
          "name": "stdout",
          "text": [
            "Secret key: b'TEXRBJBYDZKIXQUF'\n",
            " salt: YWMNWUKHVTFUEQVL\n"
          ]
        }
      ]
    },
    {
      "cell_type": "markdown",
      "source": [
        "Функция кодирования. Если длина кодируемого текста меньше длины ключа/соли, то добавляем соль."
      ],
      "metadata": {
        "id": "bdrA3PsijfZc"
      }
    },
    {
      "cell_type": "code",
      "source": [
        "def f(x):\n",
        "    if len(x) < len(S):\n",
        "         dif = len(S) - len(x)\n",
        "         x += S[:dif]\n",
        "    cipher  = AES.new(K, AES.MODE_ECB)\n",
        "    return cipher.encrypt(x.encode('ascii'))"
      ],
      "metadata": {
        "id": "cJvoiIsT5nFl"
      },
      "execution_count": 120,
      "outputs": []
    },
    {
      "cell_type": "markdown",
      "source": [
        "Алгоритм подбора соли"
      ],
      "metadata": {
        "id": "eccRO-olj4lM"
      }
    },
    {
      "cell_type": "code",
      "source": [
        "pred_salt = ''\n",
        "while len(pred_salt) < SIZE_KEY:\n",
        "    x = ('A' * SIZE_KEY )[:-1 - len(pred_salt)]\n",
        "    f_without_salt = f(x)\n",
        "    for letter in LETTERS:\n",
        "        if f(x + pred_salt + letter) == f_without_salt:\n",
        "            pred_salt += letter\n",
        "            break"
      ],
      "metadata": {
        "id": "y7BHXPnX6z0n"
      },
      "execution_count": 121,
      "outputs": []
    },
    {
      "cell_type": "markdown",
      "source": [
        "Проверка, что соль подобрана верно"
      ],
      "metadata": {
        "id": "RVkDFcpVlEvb"
      }
    },
    {
      "cell_type": "code",
      "source": [
        "assert pred_salt == S\n",
        "print(f'Predicted salt: {pred_salt}')"
      ],
      "metadata": {
        "colab": {
          "base_uri": "https://localhost:8080/"
        },
        "id": "443FU_mZRr_X",
        "outputId": "b322c486-be93-4635-9f41-2a9339f2a27e"
      },
      "execution_count": 122,
      "outputs": [
        {
          "output_type": "stream",
          "name": "stdout",
          "text": [
            "Predicted salt: YWMNWUKHVTFUEQVL\n"
          ]
        }
      ]
    }
  ]
}