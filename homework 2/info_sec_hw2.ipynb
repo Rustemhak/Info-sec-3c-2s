{
  "nbformat": 4,
  "nbformat_minor": 0,
  "metadata": {
    "colab": {
      "name": "info_sec_hw2.ipynb",
      "provenance": [],
      "collapsed_sections": []
    },
    "kernelspec": {
      "name": "python3",
      "display_name": "Python 3"
    },
    "language_info": {
      "name": "python"
    }
  },
  "cells": [
    {
      "cell_type": "code",
      "source": [
        "!pip install pycrypto"
      ],
      "metadata": {
        "colab": {
          "base_uri": "https://localhost:8080/"
        },
        "id": "QaH0AFXtz9AL",
        "outputId": "2d101865-d3a6-4d6e-97f8-9ac3faf7e987"
      },
      "execution_count": 2,
      "outputs": [
        {
          "output_type": "stream",
          "name": "stdout",
          "text": [
            "Looking in indexes: https://pypi.org/simple, https://us-python.pkg.dev/colab-wheels/public/simple/\n",
            "Collecting pycrypto\n",
            "  Downloading pycrypto-2.6.1.tar.gz (446 kB)\n",
            "\u001b[K     |████████████████████████████████| 446 kB 5.3 MB/s \n",
            "\u001b[?25hBuilding wheels for collected packages: pycrypto\n",
            "  Building wheel for pycrypto (setup.py) ... \u001b[?25l\u001b[?25hdone\n",
            "  Created wheel for pycrypto: filename=pycrypto-2.6.1-cp37-cp37m-linux_x86_64.whl size=499932 sha256=076750fc7c87c6d8e57ca35b7275b8748d3d238587a1804fdc17e79c2379b50e\n",
            "  Stored in directory: /root/.cache/pip/wheels/cf/85/ba/bbd7c96add459de7598fb424e5ff2309baf2095c844ac0f191\n",
            "Successfully built pycrypto\n",
            "Installing collected packages: pycrypto\n",
            "Successfully installed pycrypto-2.6.1\n"
          ]
        }
      ]
    },
    {
      "cell_type": "code",
      "execution_count": 28,
      "metadata": {
        "id": "K_4_YH3Qy-7n"
      },
      "outputs": [],
      "source": [
        "import base64\n",
        "import hashlib\n",
        "from Crypto import Random\n",
        "from Crypto.Cipher import AES\n"
      ]
    },
    {
      "cell_type": "code",
      "source": [
        "\n",
        "\n",
        "class AESCipher:\n",
        "\n",
        "    def __init__(self, key):\n",
        "        self.bs = 16\n",
        "        self.key = hashlib.sha256(key.encode()).digest()\n",
        "\n",
        "    def encrypt(self, message):\n",
        "        message = self._pad(message)\n",
        "        iv = b'0000000000000000'\n",
        "        cipher = AES.new(self.key, AES.MODE_CBC, iv)\n",
        "        return base64.b64encode(iv + cipher.encrypt(message)).decode('utf-8')\n",
        "\n",
        "    def decrypt(self, enc):\n",
        "        enc = base64.b64decode(enc)\n",
        "        iv = enc[:AES.block_size]\n",
        "        cipher = AES.new(self.key, AES.MODE_CBC, iv)\n",
        "        return self._unpad(cipher.decrypt(enc[AES.block_size:])).decode('utf-8')\n",
        "\n",
        "    def _pad(self, s):\n",
        "        return s + (self.bs - len(s) % self.bs) * chr(self.bs - len(s) % self.bs)\n",
        "\n",
        "    @staticmethod\n",
        "    def _unpad(s):\n",
        "        return s[:-ord(s[len(s)-1:])]"
      ],
      "metadata": {
        "id": "JwKOOgXJ3Osc"
      },
      "execution_count": 118,
      "outputs": []
    },
    {
      "cell_type": "code",
      "source": [
        "aes = AESCipher('YELLOW SUBMARINE')\n",
        "# encoded1 = aes.encrypt(\"alert(\\\"You are pwned!\\\");\")\n",
        "encoded1 = aes.encrypt(\"alert(\\\"Hello world!\\\");\")"
      ],
      "metadata": {
        "id": "FBp_UboI0cff"
      },
      "execution_count": 119,
      "outputs": []
    },
    {
      "cell_type": "code",
      "source": [
        "encoded1"
      ],
      "metadata": {
        "colab": {
          "base_uri": "https://localhost:8080/",
          "height": 36
        },
        "id": "lvQ2S80r1M97",
        "outputId": "8d44056f-ecf1-4785-9201-7770b6a66798"
      },
      "execution_count": 120,
      "outputs": [
        {
          "output_type": "execute_result",
          "data": {
            "text/plain": [
              "'MDAwMDAwMDAwMDAwMDAwMCYVJRnjox4qKiX+VR5Qf1WAR5HPb0+VdkJRIv8MGPSe'"
            ],
            "application/vnd.google.colaboratory.intrinsic+json": {
              "type": "string"
            }
          },
          "metadata": {},
          "execution_count": 120
        }
      ]
    },
    {
      "cell_type": "code",
      "source": [
        "encoded2 = aes.encrypt(\"alert(\\\"You are pwned!\\\");\")\n",
        "encoded2"
      ],
      "metadata": {
        "colab": {
          "base_uri": "https://localhost:8080/",
          "height": 36
        },
        "id": "Qdzmo_ks2FBt",
        "outputId": "27fa0065-99f8-41b4-d594-f1691f73e496"
      },
      "execution_count": 121,
      "outputs": [
        {
          "output_type": "execute_result",
          "data": {
            "text/plain": [
              "'MDAwMDAwMDAwMDAwMDAwMJxZO3ZVy0ked/JB+YTBi3KEyIQhnNeN7o5uQInOK25d'"
            ],
            "application/vnd.google.colaboratory.intrinsic+json": {
              "type": "string"
            }
          },
          "metadata": {},
          "execution_count": 121
        }
      ]
    },
    {
      "cell_type": "code",
      "source": [
        "for i in range(len(encoded1)):\n",
        "    if encoded1[i] != encoded2[i]:\n",
        "        print(i, encoded1[i],encoded2[i])"
      ],
      "metadata": {
        "colab": {
          "base_uri": "https://localhost:8080/"
        },
        "id": "JHV9e3Pu3wtq",
        "outputId": "d0a66ef1-0477-4597-e2d0-dff032a0de0a"
      },
      "execution_count": 122,
      "outputs": [
        {
          "output_type": "stream",
          "name": "stdout",
          "text": [
            "21 C J\n",
            "22 Y x\n",
            "23 V Z\n",
            "24 J O\n",
            "25 R 3\n",
            "26 n Z\n",
            "27 j V\n",
            "28 o y\n",
            "29 x 0\n",
            "30 4 k\n",
            "31 q e\n",
            "32 K d\n",
            "33 i /\n",
            "34 X J\n",
            "35 + B\n",
            "36 V +\n",
            "37 R Y\n",
            "38 5 T\n",
            "39 Q B\n",
            "40 f i\n",
            "41 1 3\n",
            "42 W K\n",
            "43 A E\n",
            "44 R y\n",
            "45 5 I\n",
            "46 H Q\n",
            "47 P h\n",
            "48 b n\n",
            "49 0 N\n",
            "50 + e\n",
            "51 V N\n",
            "52 d 7\n",
            "53 k o\n",
            "54 J 5\n",
            "55 R u\n",
            "56 I Q\n",
            "57 v I\n",
            "58 8 n\n",
            "59 M O\n",
            "60 G K\n",
            "61 P 2\n",
            "62 S 5\n",
            "63 e d\n"
          ]
        }
      ]
    },
    {
      "cell_type": "code",
      "source": [
        "import string\n",
        "i = 21\n",
        "s = ''\n",
        "while i < 64:\n",
        "    for a in string.printable:\n",
        "        aes = AESCipher(s + a)\n",
        "        encoded2 = aes.encrypt(\"alert(\\\"You are pwned!\\\");\")\n",
        "        if encoded2[i] == encoded1[i]:\n",
        "            break\n",
        "    i += 1\n",
        "    s = s + a "
      ],
      "metadata": {
        "id": "1cXl1pvv5D3a"
      },
      "execution_count": 134,
      "outputs": []
    },
    {
      "cell_type": "markdown",
      "source": [
        "Новый ключ"
      ],
      "metadata": {
        "id": "zjglWxMiD4BA"
      }
    },
    {
      "cell_type": "code",
      "source": [
        "s"
      ],
      "metadata": {
        "colab": {
          "base_uri": "https://localhost:8080/",
          "height": 36
        },
        "id": "5x5BqEazCNz3",
        "outputId": "4ebd01f6-9f04-4370-df80-4d01822bb10e"
      },
      "execution_count": 135,
      "outputs": [
        {
          "output_type": "execute_result",
          "data": {
            "text/plain": [
              "'2s\\x0c/4ONM$L\\x0c\\x0c\\x0c(\\x0cnO8V\\x0c9lg$o\\x0c\\x0cE\\x0c\\x0cB\\x0cC\\x0cDG0\\x0cx\\x0c\\x0c.V'"
            ],
            "application/vnd.google.colaboratory.intrinsic+json": {
              "type": "string"
            }
          },
          "metadata": {},
          "execution_count": 135
        }
      ]
    }
  ]
}