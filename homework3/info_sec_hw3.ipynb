{
  "nbformat": 4,
  "nbformat_minor": 0,
  "metadata": {
    "colab": {
      "name": "info_sec_hw3.ipynb",
      "provenance": []
    },
    "kernelspec": {
      "name": "python3",
      "display_name": "Python 3"
    },
    "language_info": {
      "name": "python"
    }
  },
  "cells": [
    {
      "cell_type": "markdown",
      "source": [
        "# ЕВА"
      ],
      "metadata": {
        "id": "XrvH-jA-iH5h"
      }
    },
    {
      "cell_type": "code",
      "source": [
        "import random\n",
        "p = random.randint(1,100)\n",
        "p"
      ],
      "metadata": {
        "colab": {
          "base_uri": "https://localhost:8080/"
        },
        "id": "RN1ScCZ4VWYr",
        "outputId": "8c333351-51e5-47bb-b437-7573da9fa5fc"
      },
      "execution_count": 2,
      "outputs": [
        {
          "output_type": "execute_result",
          "data": {
            "text/plain": [
              "90"
            ]
          },
          "metadata": {},
          "execution_count": 2
        }
      ]
    },
    {
      "cell_type": "markdown",
      "source": [
        "Ева устанавливает g = p – 1\n"
      ],
      "metadata": {
        "id": "jvtmBkE6UvGa"
      }
    },
    {
      "cell_type": "code",
      "execution_count": 11,
      "metadata": {
        "colab": {
          "base_uri": "https://localhost:8080/"
        },
        "id": "X1JNiYfoKY2c",
        "outputId": "3d6bfb63-c138-44ca-fd96-4c2e2322e2bb"
      },
      "outputs": [
        {
          "output_type": "stream",
          "name": "stdout",
          "text": [
            "89\n"
          ]
        }
      ],
      "source": [
        "g = p - 1\n",
        "print(g % p)"
      ]
    },
    {
      "cell_type": "markdown",
      "source": [
        "Число g имеет остаток p-1 (-1)"
      ],
      "metadata": {
        "id": "uGwwkYy5hil0"
      }
    },
    {
      "cell_type": "code",
      "source": [
        "k = random.randint(1,10)\n"
      ],
      "metadata": {
        "id": "Tkt0RhvDg5tc"
      },
      "execution_count": 8,
      "outputs": []
    },
    {
      "cell_type": "code",
      "source": [
        "even = 2 * k\n",
        "print((g ** even) % p)"
      ],
      "metadata": {
        "colab": {
          "base_uri": "https://localhost:8080/"
        },
        "id": "zl6bOOZFeM9f",
        "outputId": "ec09f609-e7f5-4ce2-d3ba-93b1d4ef4173"
      },
      "execution_count": 9,
      "outputs": [
        {
          "output_type": "stream",
          "name": "stdout",
          "text": [
            "1\n"
          ]
        }
      ]
    },
    {
      "cell_type": "markdown",
      "source": [
        "если степень чётная, то остаток 1"
      ],
      "metadata": {
        "id": "i5qxA9achR8s"
      }
    },
    {
      "cell_type": "code",
      "source": [
        "odd = 2 * k + 1\n",
        "print((g ** odd) % p)"
      ],
      "metadata": {
        "colab": {
          "base_uri": "https://localhost:8080/"
        },
        "id": "hsXLyXg0Kfib",
        "outputId": "69c01c0e-46e7-49f6-fb5b-76c2bd9789e9"
      },
      "execution_count": 10,
      "outputs": [
        {
          "output_type": "stream",
          "name": "stdout",
          "text": [
            "89\n"
          ]
        }
      ]
    },
    {
      "cell_type": "markdown",
      "source": [
        "если степень чётная, то остаток -1"
      ],
      "metadata": {
        "id": "FfBTUTpthtuH"
      }
    },
    {
      "cell_type": "markdown",
      "source": [
        "# Алиса и Боб"
      ],
      "metadata": {
        "id": "Wt2uZK4xhz0L"
      }
    },
    {
      "cell_type": "code",
      "source": [
        "k = random.randint(1,10)\n",
        "m = random.randint(1,10)\n",
        "k, m"
      ],
      "metadata": {
        "colab": {
          "base_uri": "https://localhost:8080/"
        },
        "id": "x62AH0N7iOz3",
        "outputId": "7ef56a77-2a07-49f6-af6a-f7416f739378"
      },
      "execution_count": 14,
      "outputs": [
        {
          "output_type": "execute_result",
          "data": {
            "text/plain": [
              "(2, 8)"
            ]
          },
          "metadata": {},
          "execution_count": 14
        }
      ]
    },
    {
      "cell_type": "markdown",
      "source": [
        "чётное и чётное"
      ],
      "metadata": {
        "id": "QRFXctRqiShO"
      }
    },
    {
      "cell_type": "code",
      "source": [
        "a = 2*k\n",
        "b = 2*m\n",
        "A = g**a #остаток 1\n",
        "B = g**b #остаток 1\n",
        "S = g**(a*b)\n",
        "print(f'остаток по модулю p ключа = {S % p}')"
      ],
      "metadata": {
        "colab": {
          "base_uri": "https://localhost:8080/"
        },
        "id": "Ehp5S5u6hE4D",
        "outputId": "07600a4a-32b9-40dd-d4f9-14061a2c7acf"
      },
      "execution_count": 21,
      "outputs": [
        {
          "output_type": "stream",
          "name": "stdout",
          "text": [
            "остаток по модулю p ключа = 1\n"
          ]
        }
      ]
    },
    {
      "cell_type": "markdown",
      "source": [
        "нечётное и чётное"
      ],
      "metadata": {
        "id": "uPXTMnaLiVWW"
      }
    },
    {
      "cell_type": "code",
      "source": [
        "a = 2*k + 1\n",
        "b = 2*m\n",
        "A = g**a #остаток -1\n",
        "B = g**b #остаток 1\n",
        "S = g**(a*b)\n",
        "print(f'остаток по модулю p ключа = {S % p}')"
      ],
      "metadata": {
        "colab": {
          "base_uri": "https://localhost:8080/"
        },
        "id": "KxSKpEe8iw1P",
        "outputId": "201be2eb-d9fe-4d14-c617-20ec35474bad"
      },
      "execution_count": 22,
      "outputs": [
        {
          "output_type": "stream",
          "name": "stdout",
          "text": [
            "остаток по модулю p ключа = 1\n"
          ]
        }
      ]
    },
    {
      "cell_type": "markdown",
      "source": [
        "чётное и нечётное"
      ],
      "metadata": {
        "id": "2nO6fsU3iXPp"
      }
    },
    {
      "cell_type": "code",
      "source": [
        "a = 2*k\n",
        "b = 2*m + 1\n",
        "A = g**a  #остаток 1\n",
        "B = g**b #остаток -1\n",
        "S = g**(a*b)\n",
        "print(f'остаток по модулю p ключа = {S % p}')"
      ],
      "metadata": {
        "colab": {
          "base_uri": "https://localhost:8080/"
        },
        "id": "3j_D-iHZkFni",
        "outputId": "1dc0bcfb-6cfa-4a64-a3d6-40c25d492cac"
      },
      "execution_count": 23,
      "outputs": [
        {
          "output_type": "stream",
          "name": "stdout",
          "text": [
            "остаток по модулю p ключа = 1\n"
          ]
        }
      ]
    },
    {
      "cell_type": "markdown",
      "source": [
        "нечётное и нечётное"
      ],
      "metadata": {
        "id": "eTn_q8gUiYkB"
      }
    },
    {
      "cell_type": "code",
      "source": [
        "a = 2*k + 1\n",
        "b = 2*m + 1\n",
        "A = g**a #остаток -1\n",
        "B = g**b #остаток -1\n",
        "S = g**(a*b)\n",
        "print(f'остаток по модулю p ключа = {S % p}')"
      ],
      "metadata": {
        "colab": {
          "base_uri": "https://localhost:8080/"
        },
        "id": "ubTY3LymkIki",
        "outputId": "ebe111d3-04b5-45d4-f1fb-d3bd42dbe478"
      },
      "execution_count": 24,
      "outputs": [
        {
          "output_type": "stream",
          "name": "stdout",
          "text": [
            "остаток по модулю p ключа = 89\n"
          ]
        }
      ]
    },
    {
      "cell_type": "markdown",
      "source": [
        "остаток -1"
      ],
      "metadata": {
        "id": "nOtCPNuwk1PI"
      }
    },
    {
      "cell_type": "markdown",
      "source": [
        "## Если A и B равно -1, то S = -1. Если А или B равно 1, то S = 1"
      ],
      "metadata": {
        "id": "Jz2mZDSLlPwU"
      }
    }
  ]
}